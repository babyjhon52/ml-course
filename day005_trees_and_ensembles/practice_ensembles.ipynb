{
  "cells": [
    {
      "attachments": {},
      "cell_type": "markdown",
      "metadata": {
        "id": "dUXOlcXZJ4gN"
      },
      "source": [
        "# Ensembles\n"
      ]
    },
    {
      "cell_type": "code",
      "execution_count": 2,
      "metadata": {
        "id": "zYqTjk-NJ4gP"
      },
      "outputs": [],
      "source": [
        "import warnings\n",
        "warnings.simplefilter(\"ignore\")\n",
        "\n",
        "import numpy as np\n",
        "import pandas as pd\n",
        "from matplotlib import pyplot as plt\n",
        "plt.style.use('ggplot')\n",
        "plt.rcParams['figure.figsize'] = 10, 6\n",
        "\n",
        "from sklearn.datasets import load_digits as load\n",
        "from sklearn.model_selection import cross_val_score\n",
        "from sklearn.ensemble import BaggingClassifier\n",
        "from sklearn.neighbors import KNeighborsClassifier\n",
        "from sklearn.ensemble import RandomForestRegressor, RandomForestClassifier, BaggingRegressor\n",
        "from sklearn.tree import DecisionTreeRegressor, DecisionTreeClassifier\n",
        "\n",
        "import pandas as pd\n",
        "from sklearn.model_selection import cross_val_score, StratifiedKFold, GridSearchCV\n",
        "from sklearn.metrics import accuracy_score"
      ]
    },
    {
      "attachments": {},
      "cell_type": "markdown",
      "metadata": {
        "id": "Ni67y2vlJ4gR"
      },
      "source": [
        "----------\n",
        "<h1 align=\"center\">Bagging</h1> \n"
      ]
    },
    {
      "attachments": {},
      "cell_type": "markdown",
      "metadata": {
        "id": "ey407SIhJ4gS"
      },
      "source": [
        "### Bagging"
      ]
    },
    {
      "attachments": {},
      "cell_type": "markdown",
      "metadata": {
        "id": "jB-cOYsZJ4gT"
      },
      "source": [
        "## $$a_{Bagging}(x) = \\frac{1}{M}\\sum_{i=1}^M a_i(x)$$\n",
        "\n",
        "$a_i(x)$ trained on $X^i$"
      ]
    },
    {
      "attachments": {},
      "cell_type": "markdown",
      "metadata": {
        "id": "pCXIJJElJ4gT"
      },
      "source": [
        "<img src='https://github.com/girafe-ai/ml-mipt/blob/21f_basic/week0_05_trees_and_ensembles/img/bagging.png?raw=1'>"
      ]
    },
    {
      "cell_type": "code",
      "execution_count": 3,
      "metadata": {
        "id": "KtvwuaigJ4gT"
      },
      "outputs": [],
      "source": [
        "iris = load()\n",
        "X = iris.data\n",
        "y = iris.target\n",
        "\n",
        "f = X.shape[1]\n",
        "\n",
        "rnd_d3 = DecisionTreeClassifier(max_features=int(f ** 0.5))\n",
        "d3 = DecisionTreeClassifier()"
      ]
    },
    {
      "cell_type": "code",
      "execution_count": 4,
      "metadata": {
        "id": "NOublVf8J4gT"
      },
      "outputs": [],
      "source": [
        "from sklearn.ensemble import RandomForestClassifier"
      ]
    },
    {
      "cell_type": "code",
      "execution_count": 5,
      "metadata": {
        "colab": {
          "base_uri": "https://localhost:8080/"
        },
        "id": "vL44lbnjJ4gU",
        "outputId": "60dae08e-8940-4f06-f9eb-beb2fe8c2b35"
      },
      "outputs": [
        {
          "data": {
            "text/plain": [
              "sklearn.ensemble._forest.RandomForestClassifier"
            ]
          },
          "execution_count": 5,
          "metadata": {},
          "output_type": "execute_result"
        }
      ],
      "source": [
        "RandomForestClassifier"
      ]
    },
    {
      "cell_type": "code",
      "execution_count": 6,
      "metadata": {
        "colab": {
          "base_uri": "https://localhost:8080/"
        },
        "id": "jdqxFuMaLsKF",
        "outputId": "b69e3f6d-5f66-4b36-a71d-4bd3cbfaab30"
      },
      "outputs": [
        {
          "data": {
            "text/plain": [
              "1.0"
            ]
          },
          "execution_count": 6,
          "metadata": {},
          "output_type": "execute_result"
        }
      ],
      "source": [
        "d3.fit(X, y)\n",
        "d3.score(X, y)"
      ]
    },
    {
      "cell_type": "code",
      "execution_count": 8,
      "metadata": {
        "colab": {
          "base_uri": "https://localhost:8080/"
        },
        "id": "6y7UyIbKJ4gU",
        "outputId": "81378744-ba6f-46c7-f8ea-fb67c5a90fb1"
      },
      "outputs": [
        {
          "name": "stdout",
          "output_type": "stream",
          "text": [
            "Decision tree: 0.7891\n"
          ]
        }
      ],
      "source": [
        "cv_tree_accuracy = cross_val_score(d3, X, y).mean()\n",
        "print(f\"Decision tree: {cv_tree_accuracy:.4f}\")"
      ]
    },
    {
      "cell_type": "code",
      "execution_count": 10,
      "metadata": {
        "colab": {
          "base_uri": "https://localhost:8080/"
        },
        "id": "pbv2EKFeJ4gV",
        "outputId": "9d4710d0-9e47-4a1e-a57a-95d8ac386435"
      },
      "outputs": [
        {
          "name": "stdout",
          "output_type": "stream",
          "text": [
            "Bagging: 0.8876\n"
          ]
        }
      ],
      "source": [
        "cv_bagging_accuracy = cross_val_score(BaggingClassifier(d3), X, y).mean()\n",
        "print(f\"Bagging: {cv_bagging_accuracy:.4f}\")"
      ]
    },
    {
      "cell_type": "code",
      "execution_count": 11,
      "metadata": {
        "colab": {
          "base_uri": "https://localhost:8080/"
        },
        "id": "-qr2S_EAJ4gV",
        "outputId": "892c62da-6a24-4b91-9ad7-c858a5e87877"
      },
      "outputs": [
        {
          "name": "stdout",
          "output_type": "stream",
          "text": [
            "Randomized Bagging: 0.8971\n"
          ]
        }
      ],
      "source": [
        "cv_randbagging_accuracy = cross_val_score(BaggingClassifier(rnd_d3), X, y).mean()\n",
        "print(f\"Randomized Bagging: {cv_randbagging_accuracy:.4f}\")"
      ]
    },
    {
      "attachments": {},
      "cell_type": "markdown",
      "metadata": {
        "id": "E94QqJqhJ4gY"
      },
      "source": [
        "### Random Forest"
      ]
    },
    {
      "attachments": {},
      "cell_type": "markdown",
      "metadata": {
        "id": "TRgn6O8lJ4ga"
      },
      "source": [
        "### Random Forest from sklearn"
      ]
    },
    {
      "cell_type": "code",
      "execution_count": null,
      "metadata": {
        "colab": {
          "base_uri": "https://localhost:8080/"
        },
        "id": "FkcGJjnRJ4gc",
        "outputId": "23c10508-80a5-4975-8439-a10cf5694287"
      },
      "outputs": [
        {
          "name": "stdout",
          "output_type": "stream",
          "text": [
            "--2022-03-31 04:36:15--  https://raw.githubusercontent.com/Yorko/mlcourse.ai/master/data/telecom_churn.csv\n",
            "Resolving raw.githubusercontent.com (raw.githubusercontent.com)... 185.199.110.133, 185.199.109.133, 185.199.108.133, ...\n",
            "Connecting to raw.githubusercontent.com (raw.githubusercontent.com)|185.199.110.133|:443... connected.\n",
            "HTTP request sent, awaiting response... 200 OK\n",
            "Length: 279997 (273K) [text/plain]\n",
            "Saving to: ‘telecom_churn.csv’\n",
            "\n",
            "\rtelecom_churn.csv     0%[                    ]       0  --.-KB/s               \rtelecom_churn.csv   100%[===================>] 273.43K  --.-KB/s    in 0.004s  \n",
            "\n",
            "2022-03-31 04:36:15 (62.1 MB/s) - ‘telecom_churn.csv’ saved [279997/279997]\n",
            "\n"
          ]
        }
      ],
      "source": [
        "!wget https://raw.githubusercontent.com/Yorko/mlcourse.ai/master/data/telecom_churn.csv"
      ]
    },
    {
      "cell_type": "code",
      "execution_count": null,
      "metadata": {
        "colab": {
          "base_uri": "https://localhost:8080/"
        },
        "id": "iXVg83uKJ4gc",
        "outputId": "b3f3b210-ec04-42b5-d61d-589619fdc285"
      },
      "outputs": [
        {
          "name": "stdout",
          "output_type": "stream",
          "text": [
            "CV accuracy score: 92.50%\n"
          ]
        }
      ],
      "source": [
        "\n",
        "df = pd.read_csv(\"telecom_churn.csv\")\n",
        "\n",
        "\n",
        "cols = []\n",
        "for i in df.columns:\n",
        "    if (df[i].dtype == \"float64\") or (df[i].dtype == 'int64'):\n",
        "        cols.append(i)\n",
        "\n",
        "\n",
        "X, y = df[cols].copy(), np.asarray(df[\"Churn\"],dtype='int8')\n",
        "\n",
        "\n",
        "skf = StratifiedKFold(n_splits=5, shuffle=True, random_state=42)\n",
        "\n",
        "\n",
        "rfc = RandomForestClassifier(random_state=42, n_jobs=-1, oob_score=True)\n",
        "\n",
        "\n",
        "results = cross_val_score(rfc, X, y, cv=skf)\n",
        "\n",
        "\n",
        "print(\"CV accuracy score: {:.2f}%\".format(results.mean()*100))"
      ]
    },
    {
      "cell_type": "code",
      "execution_count": null,
      "metadata": {
        "colab": {
          "base_uri": "https://localhost:8080/"
        },
        "id": "Kj5nWVZxRhAA",
        "outputId": "3a1a9f9d-5fce-4756-8f6c-221e8c5b596f"
      },
      "outputs": [
        {
          "name": "stdout",
          "output_type": "stream",
          "text": [
            "CV accuracy score: 68.80%\n"
          ]
        }
      ],
      "source": [
        "from sklearn.linear_model import LogisticRegression\n",
        "lr = LogisticRegression(class_weight='balanced')\n",
        "results = cross_val_score(lr, X, y, cv=skf)\n",
        "\n",
        "\n",
        "print(\"CV accuracy score: {:.2f}%\".format(results.mean()*100))\n"
      ]
    },
    {
      "cell_type": "code",
      "execution_count": null,
      "metadata": {
        "colab": {
          "base_uri": "https://localhost:8080/"
        },
        "id": "YefutVmkTCnd",
        "outputId": "b8f01660-1da2-4213-bd53-07de3e5523e3"
      },
      "outputs": [
        {
          "data": {
            "text/plain": [
              "Counter({0: 2850, 1: 483})"
            ]
          },
          "execution_count": 71,
          "metadata": {},
          "output_type": "execute_result"
        }
      ],
      "source": [
        "Counter(y)"
      ]
    },
    {
      "cell_type": "code",
      "execution_count": null,
      "metadata": {
        "id": "MTWfkuncSeGA"
      },
      "outputs": [],
      "source": [
        "from sklearn.metrics import precision_score, recall_score"
      ]
    },
    {
      "cell_type": "code",
      "execution_count": null,
      "metadata": {
        "colab": {
          "base_uri": "https://localhost:8080/"
        },
        "id": "0xUS65pCSkTi",
        "outputId": "a87c49c4-23ea-4670-8a4a-b8641e7241ff"
      },
      "outputs": [
        {
          "data": {
            "text/plain": [
              "LogisticRegression(class_weight='balanced')"
            ]
          },
          "execution_count": 73,
          "metadata": {},
          "output_type": "execute_result"
        }
      ],
      "source": [
        "lr.fit(X,y)"
      ]
    },
    {
      "cell_type": "code",
      "execution_count": null,
      "metadata": {
        "colab": {
          "base_uri": "https://localhost:8080/"
        },
        "id": "cRAlzGMLSw42",
        "outputId": "176f1565-6d6d-4090-d7d5-a0f40175a856"
      },
      "outputs": [
        {
          "data": {
            "text/plain": [
              "0.8627331091409355"
            ]
          },
          "execution_count": 63,
          "metadata": {},
          "output_type": "execute_result"
        }
      ],
      "source": [
        "#unbalanced\n",
        "precision_score(1-y, 1-lr.predict(X))"
      ]
    },
    {
      "cell_type": "code",
      "execution_count": null,
      "metadata": {
        "colab": {
          "base_uri": "https://localhost:8080/"
        },
        "id": "HW_yL8LNTSro",
        "outputId": "9e38db58-1eea-4d0a-fa0e-5ef0be50b93e"
      },
      "outputs": [
        {
          "data": {
            "text/plain": [
              "0.9339039467427485"
            ]
          },
          "execution_count": 74,
          "metadata": {},
          "output_type": "execute_result"
        }
      ],
      "source": [
        "#balanced\n",
        "precision_score(1-y, 1-lr.predict(X))"
      ]
    },
    {
      "cell_type": "code",
      "execution_count": null,
      "metadata": {
        "colab": {
          "base_uri": "https://localhost:8080/"
        },
        "id": "54hNv5JDS265",
        "outputId": "cbcffca6-5581-48e9-ba7d-347f52575fcd"
      },
      "outputs": [
        {
          "data": {
            "text/plain": [
              "0.9901754385964913"
            ]
          },
          "execution_count": 64,
          "metadata": {},
          "output_type": "execute_result"
        }
      ],
      "source": [
        "#unbalanced\n",
        "recall_score(1-y, 1-lr.predict(X))"
      ]
    },
    {
      "cell_type": "code",
      "execution_count": null,
      "metadata": {
        "colab": {
          "base_uri": "https://localhost:8080/"
        },
        "id": "ku-AlM7fTWpp",
        "outputId": "2b2060fd-d7c7-4f09-81dd-9c046cb5c63d"
      },
      "outputs": [
        {
          "data": {
            "text/plain": [
              "0.6891228070175439"
            ]
          },
          "execution_count": 75,
          "metadata": {},
          "output_type": "execute_result"
        }
      ],
      "source": [
        "#balanced\n",
        "recall_score(1-y, 1-lr.predict(X))"
      ]
    },
    {
      "cell_type": "code",
      "execution_count": null,
      "metadata": {
        "colab": {
          "base_uri": "https://localhost:8080/"
        },
        "id": "_VJch8RwSmmC",
        "outputId": "74247f75-0a42-44df-929d-01f8357d59b6"
      },
      "outputs": [
        {
          "data": {
            "text/plain": [
              "0.5483870967741935"
            ]
          },
          "execution_count": 68,
          "metadata": {},
          "output_type": "execute_result"
        }
      ],
      "source": [
        "#unbalanced\n",
        "precision_score(y, lr.predict(X))"
      ]
    },
    {
      "cell_type": "code",
      "execution_count": null,
      "metadata": {
        "colab": {
          "base_uri": "https://localhost:8080/"
        },
        "id": "UAYMIEZdTaOD",
        "outputId": "5998d93f-6a94-4fd6-8ba4-e518a68313ae"
      },
      "outputs": [
        {
          "data": {
            "text/plain": [
              "0.27967479674796747"
            ]
          },
          "execution_count": 76,
          "metadata": {},
          "output_type": "execute_result"
        }
      ],
      "source": [
        "#balanced\n",
        "precision_score(y, lr.predict(X))"
      ]
    },
    {
      "cell_type": "code",
      "execution_count": null,
      "metadata": {
        "colab": {
          "base_uri": "https://localhost:8080/"
        },
        "id": "muicjymJSriY",
        "outputId": "608388a2-350a-435d-a35c-bcdc37fb9a35"
      },
      "outputs": [
        {
          "data": {
            "text/plain": [
              "0.07039337474120083"
            ]
          },
          "execution_count": 69,
          "metadata": {},
          "output_type": "execute_result"
        }
      ],
      "source": [
        "#unbalanced\n",
        "recall_score(y, lr.predict(X))"
      ]
    },
    {
      "cell_type": "code",
      "execution_count": null,
      "metadata": {
        "colab": {
          "base_uri": "https://localhost:8080/"
        },
        "id": "LZSywwGcTeN-",
        "outputId": "f1bd60aa-e657-443b-c02d-c68b8072fd18"
      },
      "outputs": [
        {
          "data": {
            "text/plain": [
              "0.7122153209109731"
            ]
          },
          "execution_count": 77,
          "metadata": {},
          "output_type": "execute_result"
        }
      ],
      "source": [
        "#balanced\n",
        "recall_score(y, lr.predict(X))"
      ]
    },
    {
      "cell_type": "code",
      "execution_count": null,
      "metadata": {
        "id": "sALpNASPQ1D3"
      },
      "outputs": [],
      "source": [
        "from collections import Counter"
      ]
    },
    {
      "cell_type": "code",
      "execution_count": null,
      "metadata": {
        "colab": {
          "base_uri": "https://localhost:8080/"
        },
        "id": "aFSLjD1_QzX2",
        "outputId": "699da484-5ffd-45e8-b28c-d6e516573400"
      },
      "outputs": [
        {
          "data": {
            "text/plain": [
              "Counter({0: 2850, 1: 483})"
            ]
          },
          "execution_count": 45,
          "metadata": {},
          "output_type": "execute_result"
        }
      ],
      "source": [
        "Counter(y)"
      ]
    },
    {
      "cell_type": "code",
      "execution_count": null,
      "metadata": {
        "id": "CXc5NbNRRyOP"
      },
      "outputs": [],
      "source": [
        "R"
      ]
    },
    {
      "cell_type": "code",
      "execution_count": null,
      "metadata": {
        "colab": {
          "base_uri": "https://localhost:8080/"
        },
        "id": "ineJJs5JJ4gd",
        "outputId": "b748c142-8e0b-4520-836a-eda1ef0c1452"
      },
      "outputs": [
        {
          "name": "stdout",
          "output_type": "stream",
          "text": [
            "Best accuracy on CV is 92.50% with 100 trees\n"
          ]
        }
      ],
      "source": [
        "skf = StratifiedKFold(n_splits=5, shuffle=True, random_state=42)\n",
        "\n",
        "\n",
        "train_acc = []\n",
        "test_acc = []\n",
        "temp_train_acc = []\n",
        "temp_test_acc = []\n",
        "trees_grid = [5, 10, 15, 20, 30, 50, 75, 100, 200]\n",
        "\n",
        "\n",
        "for ntrees in trees_grid:\n",
        "    rfc = RandomForestClassifier(n_estimators=ntrees, random_state=42, n_jobs=-1, oob_score=True)\n",
        "    temp_train_acc = []\n",
        "    temp_test_acc = []\n",
        "    for train_index, test_index in skf.split(X, y):\n",
        "        X_train, X_test = X.iloc[train_index], X.iloc[test_index]\n",
        "        y_train, y_test = y[train_index], y[test_index]\n",
        "        rfc.fit(X_train, y_train)\n",
        "        temp_train_acc.append(rfc.score(X_train, y_train))\n",
        "        temp_test_acc.append(rfc.score(X_test, y_test))\n",
        "    train_acc.append(temp_train_acc)\n",
        "    test_acc.append(temp_test_acc)\n",
        "\n",
        "train_acc, test_acc = np.asarray(train_acc), np.asarray(test_acc)\n",
        "print(\"Best accuracy on CV is {:.2f}% with {} trees\".format(max(test_acc.mean(axis=1))*100, \n",
        "                                                        trees_grid[np.argmax(test_acc.mean(axis=1))]))"
      ]
    },
    {
      "cell_type": "code",
      "execution_count": null,
      "metadata": {
        "colab": {
          "base_uri": "https://localhost:8080/",
          "height": 324
        },
        "id": "_JozgqomJ4gd",
        "outputId": "45c2a284-4fce-4f70-a2df-9f45c49e22b4"
      },
      "outputs": [
        {
          "data": {
            "text/plain": [
              "Text(0.5, 0, 'N_estimators')"
            ]
          },
          "execution_count": 81,
          "metadata": {},
          "output_type": "execute_result"
        },
        {
          "data": {
            "image/png": "[encoded data removed]",
            "text/plain": [
              "<Figure size 576x288 with 1 Axes>"
            ]
          },
          "metadata": {
            "needs_background": "light"
          },
          "output_type": "display_data"
        }
      ],
      "source": [
        "import matplotlib.pyplot as plt\n",
        "plt.style.use('ggplot')\n",
        "%matplotlib inline\n",
        "\n",
        "fig, ax = plt.subplots(figsize=(8, 4))\n",
        "ax.plot(trees_grid, train_acc.mean(axis=1), alpha=0.5, color='blue', label='train')\n",
        "ax.plot(trees_grid, test_acc.mean(axis=1), alpha=0.5, color='red', label='cv')\n",
        "ax.fill_between(trees_grid, test_acc.mean(axis=1) - test_acc.std(axis=1), test_acc.mean(axis=1) + test_acc.std(axis=1), color='#888888', alpha=0.4)\n",
        "ax.fill_between(trees_grid, test_acc.mean(axis=1) - 2*test_acc.std(axis=1), test_acc.mean(axis=1) + 2*test_acc.std(axis=1), color='#888888', alpha=0.2)\n",
        "ax.legend(loc='best')\n",
        "ax.set_ylim([0.88,1.02])\n",
        "ax.set_ylabel(\"Accuracy\")\n",
        "ax.set_xlabel(\"N_estimators\")"
      ]
    },
    {
      "attachments": {},
      "cell_type": "markdown",
      "metadata": {
        "id": "fQwwPYT0J4gd"
      },
      "source": [
        "Let's select max_depth:"
      ]
    },
    {
      "cell_type": "code",
      "execution_count": null,
      "metadata": {
        "colab": {
          "base_uri": "https://localhost:8080/"
        },
        "id": "vZb1stssJ4gd",
        "outputId": "4100f2db-c04e-48bd-8c46-7f018e637ac3"
      },
      "outputs": [
        {
          "name": "stdout",
          "output_type": "stream",
          "text": [
            "Best accuracy on CV is 92.44% with 24 max_depth\n"
          ]
        }
      ],
      "source": [
        "\n",
        "train_acc = []\n",
        "test_acc = []\n",
        "temp_train_acc = []\n",
        "temp_test_acc = []\n",
        "max_depth_grid = [3, 5, 7, 9, 11, 13, 15, 17, 20, 22, 24]\n",
        "\n",
        "\n",
        "for max_depth in max_depth_grid:\n",
        "    rfc = RandomForestClassifier(n_estimators=100, random_state=42, n_jobs=-1, oob_score=True, max_depth=max_depth)\n",
        "    temp_train_acc = []\n",
        "    temp_test_acc = []\n",
        "    for train_index, test_index in skf.split(X, y):\n",
        "        X_train, X_test = X.iloc[train_index], X.iloc[test_index]\n",
        "        y_train, y_test = y[train_index], y[test_index]\n",
        "        rfc.fit(X_train, y_train)\n",
        "        temp_train_acc.append(rfc.score(X_train, y_train))\n",
        "        temp_test_acc.append(rfc.score(X_test, y_test))\n",
        "    train_acc.append(temp_train_acc)\n",
        "    test_acc.append(temp_test_acc)\n",
        "\n",
        "train_acc, test_acc = np.asarray(train_acc), np.asarray(test_acc)\n",
        "print(\"Best accuracy on CV is {:.2f}% with {} max_depth\".format(max(test_acc.mean(axis=1))*100, \n",
        "                                                        max_depth_grid[np.argmax(test_acc.mean(axis=1))]))"
      ]
    },
    {
      "cell_type": "code",
      "execution_count": null,
      "metadata": {
        "colab": {
          "base_uri": "https://localhost:8080/",
          "height": 324
        },
        "id": "WHvCvwJmJ4gd",
        "outputId": "3ab19f6a-9ffc-4489-d2da-0d9e0efd5325"
      },
      "outputs": [
        {
          "data": {
            "text/plain": [
              "Text(0.5, 0, 'Max_depth')"
            ]
          },
          "execution_count": 83,
          "metadata": {},
          "output_type": "execute_result"
        },
        {
          "data": {
            "image/png": "[encoded data removed]",
            "text/plain": [
              "<Figure size 576x288 with 1 Axes>"
            ]
          },
          "metadata": {
            "needs_background": "light"
          },
          "output_type": "display_data"
        }
      ],
      "source": [
        "fig, ax = plt.subplots(figsize=(8, 4))\n",
        "ax.plot(max_depth_grid, train_acc.mean(axis=1), alpha=0.5, color='blue', label='train')\n",
        "ax.plot(max_depth_grid, test_acc.mean(axis=1), alpha=0.5, color='red', label='cv')\n",
        "ax.fill_between(max_depth_grid, test_acc.mean(axis=1) - test_acc.std(axis=1), test_acc.mean(axis=1) + test_acc.std(axis=1), color='#888888', alpha=0.4)\n",
        "ax.fill_between(max_depth_grid, test_acc.mean(axis=1) - 2*test_acc.std(axis=1), test_acc.mean(axis=1) + 2*test_acc.std(axis=1), color='#888888', alpha=0.2)\n",
        "ax.legend(loc='best')\n",
        "ax.set_ylim([0.88,1.02])\n",
        "ax.set_ylabel(\"Accuracy\")\n",
        "ax.set_xlabel(\"Max_depth\")"
      ]
    },
    {
      "cell_type": "code",
      "execution_count": null,
      "metadata": {
        "colab": {
          "base_uri": "https://localhost:8080/"
        },
        "id": "VU52TdSWJ4ge",
        "outputId": "42ffed56-1a98-4e69-ff8a-c029834f9169"
      },
      "outputs": [
        {
          "name": "stdout",
          "output_type": "stream",
          "text": [
            "Best accuracy on CV is 92.50% with 1 min_samples_leaf\n"
          ]
        }
      ],
      "source": [
        "\n",
        "train_acc = []\n",
        "test_acc = []\n",
        "temp_train_acc = []\n",
        "temp_test_acc = []\n",
        "min_samples_leaf_grid = [1, 3, 5, 7, 9, 11, 13, 15, 17, 20, 22, 24]\n",
        "\n",
        "\n",
        "for min_samples_leaf in min_samples_leaf_grid:\n",
        "    rfc = RandomForestClassifier(n_estimators=100, random_state=42, n_jobs=-1, \n",
        "                                 oob_score=True, min_samples_leaf=min_samples_leaf)\n",
        "    temp_train_acc = []\n",
        "    temp_test_acc = []\n",
        "    for train_index, test_index in skf.split(X, y):\n",
        "        X_train, X_test = X.iloc[train_index], X.iloc[test_index]\n",
        "        y_train, y_test = y[train_index], y[test_index]\n",
        "        rfc.fit(X_train, y_train)\n",
        "        temp_train_acc.append(rfc.score(X_train, y_train))\n",
        "        temp_test_acc.append(rfc.score(X_test, y_test))\n",
        "    train_acc.append(temp_train_acc)\n",
        "    test_acc.append(temp_test_acc)\n",
        "\n",
        "train_acc, test_acc = np.asarray(train_acc), np.asarray(test_acc)\n",
        "print(\"Best accuracy on CV is {:.2f}% with {} min_samples_leaf\".format(max(test_acc.mean(axis=1))*100, \n",
        "                                                        min_samples_leaf_grid[np.argmax(test_acc.mean(axis=1))]))"
      ]
    },
    {
      "cell_type": "code",
      "execution_count": null,
      "metadata": {
        "colab": {
          "base_uri": "https://localhost:8080/",
          "height": 324
        },
        "id": "MHVzi-jSJ4ge",
        "outputId": "d6fcc6b5-f095-4840-c534-ffb85bb0dfb5"
      },
      "outputs": [
        {
          "data": {
            "text/plain": [
              "Text(0.5, 0, 'Min_samples_leaf')"
            ]
          },
          "execution_count": 85,
          "metadata": {},
          "output_type": "execute_result"
        },
        {
          "data": {
            "image/png": "[encoded data removed]",
            "text/plain": [
              "<Figure size 576x288 with 1 Axes>"
            ]
          },
          "metadata": {
            "needs_background": "light"
          },
          "output_type": "display_data"
        }
      ],
      "source": [
        "fig, ax = plt.subplots(figsize=(8, 4))\n",
        "ax.plot(min_samples_leaf_grid, train_acc.mean(axis=1), alpha=0.5, color='blue', label='train')\n",
        "ax.plot(min_samples_leaf_grid, test_acc.mean(axis=1), alpha=0.5, color='red', label='cv')\n",
        "ax.fill_between(min_samples_leaf_grid, test_acc.mean(axis=1) - test_acc.std(axis=1), test_acc.mean(axis=1) + test_acc.std(axis=1), color='#888888', alpha=0.4)\n",
        "ax.fill_between(min_samples_leaf_grid, test_acc.mean(axis=1) - 2*test_acc.std(axis=1), test_acc.mean(axis=1) + 2*test_acc.std(axis=1), color='#888888', alpha=0.2)\n",
        "ax.legend(loc='best')\n",
        "ax.set_ylim([0.88,1.02])\n",
        "ax.set_ylabel(\"Accuracy\")\n",
        "ax.set_xlabel(\"Min_samples_leaf\")"
      ]
    },
    {
      "cell_type": "code",
      "execution_count": null,
      "metadata": {
        "id": "eq_mrd4uKntV"
      },
      "outputs": [],
      "source": []
    },
    {
      "cell_type": "code",
      "execution_count": null,
      "metadata": {
        "colab": {
          "base_uri": "https://localhost:8080/"
        },
        "id": "Poat7IXxJ4ge",
        "outputId": "bffd7791-2bb4-484c-e76a-a677ec4d19ed"
      },
      "outputs": [
        {
          "name": "stdout",
          "output_type": "stream",
          "text": [
            "Fitting 5 folds for each of 64 candidates, totalling 320 fits\n"
          ]
        },
        {
          "data": {
            "text/plain": [
              "GridSearchCV(cv=StratifiedKFold(n_splits=5, random_state=42, shuffle=True),\n",
              "             estimator=RandomForestClassifier(n_jobs=-1, oob_score=True,\n",
              "                                              random_state=42),\n",
              "             n_jobs=-1,\n",
              "             param_grid={'max_depth': [5, 10, 15, 20],\n",
              "                         'max_features': [4, 7, 10, 13],\n",
              "                         'min_samples_leaf': [1, 3, 5, 7]},\n",
              "             verbose=1)"
            ]
          },
          "execution_count": 86,
          "metadata": {},
          "output_type": "execute_result"
        }
      ],
      "source": [
        "parameters = {'max_features': [4, 7, 10, 13], 'min_samples_leaf': [1, 3, 5, 7], 'max_depth': [5,10,15,20]}\n",
        "rfc = RandomForestClassifier(n_estimators=100, random_state=42, \n",
        "                             n_jobs=-1, oob_score=True)\n",
        "gcv = GridSearchCV(rfc, parameters, n_jobs=-1, cv=skf, verbose=1)\n",
        "gcv.fit(X, y)"
      ]
    },
    {
      "cell_type": "code",
      "execution_count": null,
      "metadata": {
        "colab": {
          "base_uri": "https://localhost:8080/"
        },
        "id": "UHr9KDIpWaD-",
        "outputId": "00cc2368-1090-441f-d3b8-a1c00413cd31"
      },
      "outputs": [
        {
          "data": {
            "text/plain": [
              "{'max_depth': 20, 'max_features': 10, 'min_samples_leaf': 3}"
            ]
          },
          "execution_count": 87,
          "metadata": {},
          "output_type": "execute_result"
        }
      ],
      "source": [
        "gcv.best_params_"
      ]
    },
    {
      "cell_type": "code",
      "execution_count": null,
      "metadata": {
        "colab": {
          "base_uri": "https://localhost:8080/"
        },
        "id": "Bra2EDnWWeh5",
        "outputId": "4062cc9e-2938-4bc0-c146-bf3ab613a964"
      },
      "outputs": [
        {
          "data": {
            "text/plain": [
              "0.9606960696069607"
            ]
          },
          "execution_count": 88,
          "metadata": {},
          "output_type": "execute_result"
        }
      ],
      "source": [
        "gcv.score(X, y)"
      ]
    },
    {
      "attachments": {},
      "cell_type": "markdown",
      "metadata": {
        "id": "m5gZgTOkJ4gf"
      },
      "source": [
        "Overfitting?"
      ]
    },
    {
      "cell_type": "code",
      "execution_count": null,
      "metadata": {
        "id": "pKvmTWsRJ4gf"
      },
      "outputs": [],
      "source": [
        "from sklearn.metrics import accuracy_score"
      ]
    },
    {
      "cell_type": "code",
      "execution_count": null,
      "metadata": {
        "colab": {
          "base_uri": "https://localhost:8080/"
        },
        "id": "Fg02ZZ6MJ4gf",
        "outputId": "62996751-79f4-4d6f-9f76-b6cf5d87ee87"
      },
      "outputs": [
        {
          "name": "stdout",
          "output_type": "stream",
          "text": [
            "n_estimators =   10 train_acc = 0.9898762654668166 test_acc = 0.9174174174174174\n",
            "n_estimators =   40 train_acc = 0.9996250468691413 test_acc = 0.9264264264264265\n",
            "n_estimators =  100 train_acc = 0.9996250468691413 test_acc = 0.9294294294294294\n",
            "n_estimators =  200 train_acc =  1.0 test_acc = 0.924924924924925\n",
            "n_estimators =  600 train_acc =  1.0 test_acc = 0.9264264264264265\n",
            "n_estimators = 1000 train_acc =  1.0 test_acc = 0.924924924924925\n",
            "CPU times: user 3.78 s, sys: 247 ms, total: 4.03 s\n",
            "Wall time: 39.2 s\n"
          ]
        }
      ],
      "source": [
        "%%time\n",
        "\n",
        "for n_estimators in [10, 40, 100, 200, 600, 1000]:\n",
        "    clf = BaggingClassifier(base_estimator=DecisionTreeClassifier(), n_estimators=n_estimators, n_jobs=4)\n",
        "    clf = clf.fit(X_train, y_train)\n",
        "    train_acc, test_acc = accuracy_score(clf.predict(X_train), y_train), accuracy_score(clf.predict(X_test), y_test)\n",
        "    print('n_estimators = %4s train_acc = %4s test_acc = %4s' %(n_estimators, train_acc, test_acc))"
      ]
    },
    {
      "cell_type": "code",
      "execution_count": null,
      "metadata": {
        "colab": {
          "base_uri": "https://localhost:8080/"
        },
        "id": "pjR96tNhJ4gf",
        "outputId": "76f01805-9727-47bd-fb1f-0c334342bd4f"
      },
      "outputs": [
        {
          "name": "stdout",
          "output_type": "stream",
          "text": [
            "n_estimators =   10 train_acc = 0.9463817022872141 test_acc = 0.9234234234234234\n",
            "n_estimators =   40 train_acc = 0.9490063742032246 test_acc = 0.924924924924925\n",
            "n_estimators =  100 train_acc = 0.94750656167979 test_acc = 0.9279279279279279\n",
            "n_estimators =  200 train_acc = 0.9478815148106486 test_acc = 0.924924924924925\n",
            "n_estimators =  600 train_acc = 0.9482564679415073 test_acc = 0.924924924924925\n",
            "n_estimators = 1000 train_acc = 0.9478815148106486 test_acc = 0.924924924924925\n",
            "CPU times: user 3.35 s, sys: 108 ms, total: 3.46 s\n",
            "Wall time: 25.2 s\n"
          ]
        }
      ],
      "source": [
        "%%time\n",
        "\n",
        "for n_estimators in [10, 40, 100, 200, 600, 1000]:\n",
        "    clf = BaggingClassifier(base_estimator=DecisionTreeClassifier(max_depth=7), n_estimators=n_estimators, n_jobs=4)\n",
        "    clf = clf.fit(X_train, y_train)\n",
        "    train_acc, test_acc = accuracy_score(clf.predict(X_train), y_train), accuracy_score(clf.predict(X_test), y_test)\n",
        "    print('n_estimators = %4s train_acc = %4s test_acc = %4s' %(n_estimators, train_acc, test_acc))"
      ]
    },
    {
      "cell_type": "code",
      "execution_count": null,
      "metadata": {
        "id": "QLk2_DyFJ4gf",
        "outputId": "018f5959-a8e0-4969-a53f-148249a70a2a"
      },
      "outputs": [
        {
          "name": "stdout",
          "output_type": "stream",
          "text": [
            "n_estimators =   10 train_acc = 0.9797525309336333 test_acc = 0.9069069069069069\n",
            "n_estimators =   40 train_acc = 0.9835020622422197 test_acc = 0.9054054054054054\n",
            "n_estimators =  100 train_acc = 0.9868766404199475 test_acc = 0.9099099099099099\n",
            "n_estimators =  200 train_acc = 0.9850018747656543 test_acc = 0.9069069069069069\n",
            "n_estimators =  600 train_acc = 0.9861267341582303 test_acc = 0.9069069069069069\n",
            "n_estimators = 1000 train_acc = 0.9857517810273716 test_acc = 0.9084084084084084\n",
            "CPU times: user 2.44 s, sys: 1.05 s, total: 3.49 s\n",
            "Wall time: 19.5 s\n"
          ]
        }
      ],
      "source": [
        "%%time\n",
        "\n",
        "for n_estimators in [10, 40, 100, 200, 600, 1000]:\n",
        "    clf = BaggingClassifier(base_estimator=DecisionTreeClassifier(max_depth=14), n_estimators=n_estimators, n_jobs=4)\n",
        "    clf = clf.fit(X_train, y_train)\n",
        "    train_acc, test_acc = accuracy_score(clf.predict(X_train), y_train), accuracy_score(clf.predict(X_test), y_test)\n",
        "    print('n_estimators = %4s train_acc = %4s test_acc = %4s' %(n_estimators, train_acc, test_acc))"
      ]
    },
    {
      "attachments": {},
      "cell_type": "markdown",
      "metadata": {
        "id": "fYuI16uPJ4gf"
      },
      "source": [
        "### Out-of-bag error"
      ]
    },
    {
      "attachments": {},
      "cell_type": "markdown",
      "metadata": {
        "id": "wMjk-JseJ4gf"
      },
      "source": [
        "<img src='https://github.com/girafe-ai/ml-mipt/blob/21f_basic/week0_05_trees_and_ensembles/img/oob.png?raw=1' width=700>"
      ]
    },
    {
      "attachments": {},
      "cell_type": "markdown",
      "metadata": {
        "id": "HDWuYum7J4gf"
      },
      "source": [
        "\n",
        "\n",
        "$$\\lim_{l \\rightarrow +\\infty} (1-\\dfrac{1}{l})^l = \\dfrac{1}{e}$$\n",
        "\n",
        "$p = 1 - \\dfrac{1}{e} \\approx 63\\%$."
      ]
    }
  ],
  "metadata": {
    "anaconda-cloud": {},
    "colab": {
      "name": "Copy of practice0_05_ensembles.ipynb",
      "provenance": []
    },
    "kernelspec": {
      "display_name": "py39_audio",
      "language": "python",
      "name": "python3"
    },
    "language_info": {
      "codemirror_mode": {
        "name": "ipython",
        "version": 3
      },
      "file_extension": ".py",
      "mimetype": "text/x-python",
      "name": "python",
      "nbconvert_exporter": "python",
      "pygments_lexer": "ipython3",
      "version": "3.9.0"
    }
  },
  "nbformat": 4,
  "nbformat_minor": 0
}
