{
  "cells": [
    {
      "cell_type": "markdown",
      "metadata": {
        "id": "5-rv-XpPFymt"
      },
      "source": [
        "# <a href=\"https://girafe.ai/\" target=\"_blank\" rel=\"noopener noreferrer\"><img src=\"https://raw.githubusercontent.com/girafe-ai/ml-course/7096a5df4cada5ee651be1e3215c2f7fb8a7e0bf/logo_margin.svg\" alt=\"girafe-ai logo\" width=\"150px\" align=\"left\"></a> [ml-basic course](https://github.com/girafe-ai/ml-course) <a class=\"tocSkip\">\n",
        "\n",
        "# Week 09: seq2seq practice\n",
        "\n",
        "## Generating names with recurrent neural networks\n",
        "\n",
        "This time you'll find yourself delving into the heart (and other intestines) of recurrent neural networks on a class of toy problems.\n",
        "\n",
        "Struggle to find a name for the variable? Let's see how you'll come up with a name for your son/daughter. Surely no human has expertize over what is a good child name, so let us train RNN instead;\n",
        "\n",
        "It's dangerous to go alone, take these:"
      ]
    },
    {
      "cell_type": "code",
      "execution_count": null,
      "metadata": {
        "ExecuteTime": {
          "end_time": "2021-11-20T14:49:50.166963Z",
          "start_time": "2021-11-20T14:49:50.007841Z"
        },
        "id": "vtc3w7VHFymz"
      },
      "outputs": [],
      "source": [
        "import matplotlib.pyplot as plt\n",
        "import numpy as np"
      ]
    },
    {
      "cell_type": "markdown",
      "metadata": {
        "id": "Mk7ykEL_Fym0"
      },
      "source": [
        "# Our data\n",
        "The dataset contains ~8k earthling names from different cultures, all in latin transcript.\n",
        "\n",
        "This notebook has been designed so as to allow you to quickly swap names for something similar: deep learning article titles, IKEA furniture, pokemon names, etc."
      ]
    },
    {
      "cell_type": "code",
      "execution_count": null,
      "metadata": {
        "ExecuteTime": {
          "end_time": "2021-11-20T14:49:50.280190Z",
          "start_time": "2021-11-20T14:49:50.167999Z"
        },
        "id": "0yKjS48gFym1"
      },
      "outputs": [],
      "source": [
        "!wget -nc https://raw.githubusercontent.com/v-goncharenko/madmo-adv/e94d3f464e805824663c34f596e23c44194ed40c/06_wordvectors_rnn/names.txt"
      ]
    },
    {
      "cell_type": "code",
      "execution_count": null,
      "metadata": {
        "ExecuteTime": {
          "end_time": "2021-11-20T14:49:50.293146Z",
          "start_time": "2021-11-20T14:49:50.286872Z"
        },
        "id": "7BOChYzTFym2"
      },
      "outputs": [],
      "source": [
        "START_TOKEN, PAD_TOKEN = \"_\", \" \""
      ]
    },
    {
      "cell_type": "code",
      "execution_count": null,
      "metadata": {
        "ExecuteTime": {
          "end_time": "2021-11-20T14:49:50.343361Z",
          "start_time": "2021-11-20T14:49:50.298652Z"
        },
        "id": "dhXwjjLIFym3"
      },
      "outputs": [],
      "source": [
        "def read_names(filename: str, start_token: str = START_TOKEN):\n",
        "    with open(filename) as file:\n",
        "        return [start_token + line.strip() for line in file]"
      ]
    },
    {
      "cell_type": "code",
      "execution_count": null,
      "metadata": {
        "ExecuteTime": {
          "end_time": "2021-11-20T14:49:50.348628Z",
          "start_time": "2021-11-20T14:49:50.344604Z"
        },
        "id": "t36OrxapFym4"
      },
      "outputs": [],
      "source": [
        "names = read_names(\"names.txt\")"
      ]
    },
    {
      "cell_type": "markdown",
      "metadata": {
        "id": "OEHlTpamFym4"
      },
      "source": [
        "Token – \"atomic\" element of the sequence"
      ]
    },
    {
      "cell_type": "code",
      "execution_count": null,
      "metadata": {
        "ExecuteTime": {
          "end_time": "2021-11-20T14:49:50.352722Z",
          "start_time": "2021-11-20T14:49:50.349736Z"
        },
        "id": "ve903ooyFym5"
      },
      "outputs": [],
      "source": [
        "print(f\"n samples = {len(names)}\\n\")\n",
        "\n",
        "for name in names[::1000]:\n",
        "    print(name)"
      ]
    },
    {
      "cell_type": "code",
      "execution_count": null,
      "metadata": {
        "ExecuteTime": {
          "end_time": "2021-11-20T14:49:50.489967Z",
          "start_time": "2021-11-20T14:49:50.353688Z"
        },
        "id": "E-GoL8g1Fym6"
      },
      "outputs": [],
      "source": [
        "lengths = list(map(len, names))\n",
        "MAX_LENGTH = max(lengths)\n",
        "print(f\"max length = {MAX_LENGTH}\")\n",
        "\n",
        "plt.title(\"Sequence length distribution\")\n",
        "plt.hist(lengths, bins=25)\n",
        "plt.grid()\n",
        "plt.show()"
      ]
    },
    {
      "cell_type": "markdown",
      "metadata": {
        "id": "JmGGPWPgFym7"
      },
      "source": [
        "# Text processing\n",
        "\n",
        "First we need next to collect a \"vocabulary\" of all unique tokens i.e. unique characters. We can then encode inputs as a sequence of character ids."
      ]
    },
    {
      "cell_type": "code",
      "execution_count": null,
      "metadata": {
        "ExecuteTime": {
          "end_time": "2021-11-20T14:49:50.494441Z",
          "start_time": "2021-11-20T14:49:50.490867Z"
        },
        "id": "YzRYIm-FFym7"
      },
      "outputs": [],
      "source": [
        "tokens_set = set()\n",
        "\n",
        "for name in names:\n",
        "    tokens_set.update(name)\n",
        "\n",
        "tokens = sorted(tokens_set)  # list of all unique characters in the dataset\n",
        "\n",
        "num_tokens = len(tokens)\n",
        "print(f\"num_tokens = {num_tokens}\")"
      ]
    },
    {
      "cell_type": "code",
      "source": [
        "\" \".join(tokens)"
      ],
      "metadata": {
        "id": "KhLfgrmFjlza"
      },
      "execution_count": null,
      "outputs": []
    },
    {
      "cell_type": "markdown",
      "metadata": {
        "id": "Grpp4RQaFym8"
      },
      "source": [
        "### Convert characters to integers\n",
        "\n",
        "Torch is built for crunching numbers, not strings.\n",
        "To train our neural network, we'll need to replace characters with their indices in tokens list.\n",
        "\n",
        "Let's compose a dictionary that does this mapping."
      ]
    },
    {
      "cell_type": "code",
      "execution_count": null,
      "metadata": {
        "ExecuteTime": {
          "end_time": "2021-11-20T14:49:50.498371Z",
          "start_time": "2021-11-20T14:49:50.495919Z"
        },
        "id": "VfPcqyxkFym8"
      },
      "outputs": [],
      "source": [
        "# dictionary of symbol -> its identifier (index in tokens list)\n",
        "token_to_id = {token: idx for idx, token in enumerate(tokens)}"
      ]
    },
    {
      "cell_type": "code",
      "execution_count": null,
      "metadata": {
        "ExecuteTime": {
          "end_time": "2021-11-20T14:49:50.502243Z",
          "start_time": "2021-11-20T14:49:50.499478Z"
        },
        "id": "v6DFUZXQFym8"
      },
      "outputs": [],
      "source": [
        "from typing import Optional, Sequence"
      ]
    },
    {
      "cell_type": "code",
      "execution_count": null,
      "metadata": {
        "ExecuteTime": {
          "end_time": "2021-11-20T14:49:50.506132Z",
          "start_time": "2021-11-20T14:49:50.503130Z"
        },
        "id": "aP2QZ3O5Fym8"
      },
      "outputs": [],
      "source": [
        "def to_matrix(\n",
        "    names: Sequence[str],\n",
        "    max_len: Optional[int] = None,\n",
        "    pad: int = token_to_id[PAD_TOKEN],\n",
        "    dtype=np.int64,\n",
        "    batch_first: bool = True,\n",
        "):\n",
        "    \"\"\"Casts a list of names into rnn-digestable matrix\"\"\"\n",
        "    max_len = max_len or max(map(len, names))\n",
        "    names_ix = np.full((len(names), max_len), pad, dtype)\n",
        "\n",
        "    for i, name in enumerate(names):\n",
        "        line_ix = [token_to_id[char] for char in name]\n",
        "        names_ix[i, : len(line_ix)] = line_ix\n",
        "\n",
        "    if not batch_first:  # convert [batch, time] into [time, batch]\n",
        "        names_ix = np.transpose(names_ix)\n",
        "\n",
        "    return names_ix"
      ]
    },
    {
      "cell_type": "code",
      "execution_count": null,
      "metadata": {
        "ExecuteTime": {
          "end_time": "2021-11-20T14:49:50.514519Z",
          "start_time": "2021-11-20T14:49:50.511372Z"
        },
        "id": "T4bS3hoXFym9"
      },
      "outputs": [],
      "source": [
        "# Example: cast 4 random names to matrices, pad with zeros\n",
        "print(\"\\n\".join(names[::2000]))\n",
        "print(to_matrix(names[::2000]))"
      ]
    },
    {
      "cell_type": "code",
      "execution_count": null,
      "metadata": {
        "ExecuteTime": {
          "end_time": "2021-11-20T14:49:50.527303Z",
          "start_time": "2021-11-20T14:49:50.515330Z"
        },
        "id": "vlpnGs2PFym9"
      },
      "outputs": [],
      "source": [
        "to_matrix(names).shape"
      ]
    },
    {
      "cell_type": "markdown",
      "metadata": {
        "id": "3AthxivfFym-"
      },
      "source": [
        "# Recurrent neural network\n",
        "\n",
        "We can rewrite recurrent neural network as a consecutive application of dense layer to input $x_t$ and previous rnn state $h_t$. This is exactly what we're gonna do now.\n",
        "\n",
        "![](https://github.com/girafe-ai/ml-mipt/raw/ab0cbd5d553e9da309bda54d35b4e93a8eb99696/week0_10_embeddings_and_seq2seq/rnn.png)\n",
        "\n",
        "Since we're training a language model, there should also be:\n",
        "\n",
        "* An embedding layer that converts character id x_t to a vector\n",
        "* An output layer that predicts probabilities of next phoneme"
      ]
    },
    {
      "cell_type": "code",
      "execution_count": null,
      "metadata": {
        "ExecuteTime": {
          "end_time": "2021-11-20T14:49:50.760299Z",
          "start_time": "2021-11-20T14:49:50.528054Z"
        },
        "id": "xHoUBBX_Fym-"
      },
      "outputs": [],
      "source": [
        "import torch\n",
        "import torch.nn.functional as F\n",
        "from torch import nn"
      ]
    },
    {
      "cell_type": "code",
      "source": [
        "emb_size = 16"
      ],
      "metadata": {
        "id": "UcB-ZwYbl2u9"
      },
      "execution_count": null,
      "outputs": []
    },
    {
      "cell_type": "markdown",
      "source": [
        "https://pytorch.org/docs/stable/generated/torch.nn.Embedding.html"
      ],
      "metadata": {
        "id": "FbnHtAoeczaC"
      }
    },
    {
      "cell_type": "code",
      "execution_count": null,
      "metadata": {
        "ExecuteTime": {
          "end_time": "2021-11-20T14:49:50.763186Z",
          "start_time": "2021-11-20T14:49:50.761222Z"
        },
        "id": "3NgQ-yOHFym-"
      },
      "outputs": [],
      "source": [
        "emb_test = nn.Embedding(num_tokens, emb_size)  # One hot + Linears"
      ]
    },
    {
      "cell_type": "code",
      "execution_count": null,
      "metadata": {
        "ExecuteTime": {
          "end_time": "2021-11-20T14:49:50.766941Z",
          "start_time": "2021-11-20T14:49:50.764009Z"
        },
        "id": "3ExKPeWuFym-"
      },
      "outputs": [],
      "source": [
        "example_matrix = to_matrix([\"_Den\", \"_Jhon\"])\n",
        "example_batch = torch.from_numpy(example_matrix).type(torch.int64)\n",
        "example_batch"
      ]
    },
    {
      "cell_type": "code",
      "execution_count": null,
      "metadata": {
        "ExecuteTime": {
          "end_time": "2021-11-20T14:49:50.774993Z",
          "start_time": "2021-11-20T14:49:50.772123Z"
        },
        "id": "LzPF2sbjFym_"
      },
      "outputs": [],
      "source": [
        "example_batch.shape"
      ]
    },
    {
      "cell_type": "code",
      "execution_count": null,
      "metadata": {
        "ExecuteTime": {
          "end_time": "2021-11-20T14:49:50.779587Z",
          "start_time": "2021-11-20T14:49:50.775876Z"
        },
        "id": "YHey2NiBFym_"
      },
      "outputs": [],
      "source": [
        "# batch size, seq length, emb dim\n",
        "emb = emb_test(example_batch)\n",
        "emb.shape"
      ]
    },
    {
      "cell_type": "code",
      "execution_count": null,
      "metadata": {
        "ExecuteTime": {
          "end_time": "2021-11-20T14:49:50.784032Z",
          "start_time": "2021-11-20T14:49:50.780396Z"
        },
        "id": "akw0BYHkFym_"
      },
      "outputs": [],
      "source": [
        "emb"
      ]
    },
    {
      "cell_type": "code",
      "execution_count": null,
      "metadata": {
        "ExecuteTime": {
          "end_time": "2021-11-20T14:49:50.788336Z",
          "start_time": "2021-11-20T14:49:50.784816Z"
        },
        "id": "PZ2wBQKUFynA"
      },
      "outputs": [],
      "source": [
        "class CharRNNCell(nn.Module):\n",
        "    \"\"\"Implement the scheme above as torch module\"\"\"\n",
        "\n",
        "    def __init__(self, num_tokens=len(tokens), embedding_size=emb_size, rnn_num_units=64):\n",
        "        super().__init__()\n",
        "        self.num_units = rnn_num_units\n",
        "\n",
        "        self.embedding = nn.Embedding(num_tokens, embedding_size)\n",
        "        self.rnn_update = nn.Linear(embedding_size + rnn_num_units, rnn_num_units)\n",
        "        self.rnn_to_logits = nn.Linear(rnn_num_units, num_tokens)\n",
        "\n",
        "    def forward(self, x, h_prev):\n",
        "        \"\"\"\n",
        "        This method computes h_next(x, h_prev) and log P(x_next | h_next)\n",
        "        We'll call it repeatedly to produce the whole sequence.\n",
        "\n",
        "        :param x: batch of character ids, containing vector of int64\n",
        "        :param h_prev: previous rnn hidden states, containing matrix [batch, rnn_num_units] of float32\n",
        "        \"\"\"\n",
        "        # get vector embedding of x\n",
        "        # batch, seq leng, emb dim\n",
        "        x_emb = self.embedding(x)\n",
        "\n",
        "        # compute next hidden state using self.rnn_update\n",
        "        # hint: use torch.cat(..., dim=...) for concatenation\n",
        "        x_and_h = torch.cat([x_emb, h_prev], dim=-1)\n",
        "        h_next = self.rnn_update(x_and_h)\n",
        "\n",
        "        h_next = torch.tanh(h_next)\n",
        "\n",
        "        # compute logits for next character probs\n",
        "        logits = self.rnn_to_logits(h_next)\n",
        "\n",
        "        return h_next, logits\n",
        "\n",
        "    def initial_state(self, batch_size):\n",
        "        \"\"\"return rnn state before it processes first input (aka h0)\"\"\"\n",
        "        # TODO init with normal distribution and make it trainable\n",
        "        return torch.zeros(batch_size, self.num_units, requires_grad=True)"
      ]
    },
    {
      "cell_type": "code",
      "execution_count": null,
      "metadata": {
        "ExecuteTime": {
          "end_time": "2021-11-20T14:49:50.793214Z",
          "start_time": "2021-11-20T14:49:50.789116Z"
        },
        "id": "2O5F0MtNFynA"
      },
      "outputs": [],
      "source": [
        "char_rnn = CharRNNCell()\n",
        "criterion = nn.NLLLoss()"
      ]
    },
    {
      "cell_type": "markdown",
      "metadata": {
        "id": "3dOzSOEWFynA"
      },
      "source": [
        "### RNN loop\n",
        "\n",
        "Once we've defined a single RNN step, we can apply it in a loop to get predictions on each step."
      ]
    },
    {
      "cell_type": "code",
      "execution_count": null,
      "metadata": {
        "ExecuteTime": {
          "end_time": "2021-11-20T14:49:50.796601Z",
          "start_time": "2021-11-20T14:49:50.793906Z"
        },
        "id": "Z6u7yawsFynB"
      },
      "outputs": [],
      "source": [
        "def rnn_loop(char_rnn, batch_ix):\n",
        "    \"\"\"Computes log P(next_character) for all time-steps in names_ix\n",
        "\n",
        "    :param names_ix: an int32 matrix of shape [batch, time], output of to_matrix(names)\n",
        "    \"\"\"\n",
        "    batch_size, max_length = batch_ix.size()\n",
        "    hid_state = char_rnn.initial_state(batch_size)\n",
        "    logprobs = []\n",
        "\n",
        "    for x_t in batch_ix.transpose(0, 1):\n",
        "        hid_state, logits = char_rnn(x_t, hid_state)  # <-- here we call our one-step code\n",
        "        logprobs.append(F.log_softmax(logits, -1))\n",
        "\n",
        "    return torch.stack(logprobs, dim=1)"
      ]
    },
    {
      "cell_type": "code",
      "execution_count": null,
      "metadata": {
        "ExecuteTime": {
          "end_time": "2021-11-20T14:49:50.802389Z",
          "start_time": "2021-11-20T14:49:50.797341Z"
        },
        "id": "tv_-wEnDFynB"
      },
      "outputs": [],
      "source": [
        "batch_ix = to_matrix(names[:5])\n",
        "batch_ix = torch.tensor(batch_ix, dtype=torch.int64)\n",
        "print(batch_ix.shape)\n",
        "\n",
        "logp_seq = rnn_loop(char_rnn, batch_ix)\n",
        "logp_seq.shape"
      ]
    },
    {
      "cell_type": "markdown",
      "metadata": {
        "id": "3cVFXhcMFynB"
      },
      "source": [
        "### Likelihood and gradients\n",
        "\n",
        "We can now train our neural network to minimize crossentropy (maximize log-likelihood) with the actual next tokens.\n",
        "\n",
        "To do so in a vectorized manner, we take `batch_ix[:, 1:]` - a matrix of token ids shifted i step to the left so i-th element is acutally the \"next token\" for i-th prediction"
      ]
    },
    {
      "cell_type": "code",
      "execution_count": null,
      "metadata": {
        "ExecuteTime": {
          "end_time": "2021-11-20T14:49:50.809267Z",
          "start_time": "2021-11-20T14:49:50.807338Z"
        },
        "id": "z1kMV-2WFynB"
      },
      "outputs": [],
      "source": [
        "predictions_logp = logp_seq[:, :-1]\n",
        "actual_next_tokens = batch_ix[:, 1:]\n",
        "\n",
        "# .contiguous() method checks that tensor is stored in the memory correctly to\n",
        "# get its view of desired shape.\n",
        "\n",
        "loss = criterion(\n",
        "    predictions_logp.contiguous().view(-1, num_tokens),\n",
        "    actual_next_tokens.contiguous().view(-1),\n",
        ")\n",
        "\n",
        "loss.backward()"
      ]
    },
    {
      "cell_type": "markdown",
      "metadata": {
        "id": "OrG0U77VFynC"
      },
      "source": [
        "### The training loop\n",
        "\n",
        "We train our char-rnn exactly the same way we train any deep learning model: by minibatch sgd.\n",
        "\n",
        "The only difference is that this time we sample strings, not images or sound."
      ]
    },
    {
      "cell_type": "code",
      "execution_count": null,
      "metadata": {
        "ExecuteTime": {
          "end_time": "2021-11-20T14:49:50.839760Z",
          "start_time": "2021-11-20T14:49:50.837371Z"
        },
        "id": "e__faC4ZFynC"
      },
      "outputs": [],
      "source": [
        "from random import sample\n",
        "\n",
        "from IPython.display import clear_output"
      ]
    },
    {
      "cell_type": "code",
      "execution_count": null,
      "metadata": {
        "ExecuteTime": {
          "end_time": "2021-11-20T14:49:57.808213Z",
          "start_time": "2021-11-20T14:49:50.840491Z"
        },
        "id": "HBtiOpJzFynC"
      },
      "outputs": [],
      "source": [
        "char_rnn = CharRNNCell()\n",
        "criterion = nn.NLLLoss()\n",
        "opt = torch.optim.Adam(char_rnn.parameters())\n",
        "# opt = torch.optim.SGD(char_rnn.parameters())\n",
        "batch_size = 32\n",
        "num_iterations = 2000\n",
        "\n",
        "history_loss = []\n",
        "history_acc = []\n",
        "\n",
        "for i in range(num_iterations):\n",
        "    opt.zero_grad()\n",
        "\n",
        "    batch_ix = to_matrix(sample(names, batch_size))\n",
        "    batch_ix = torch.tensor(batch_ix, dtype=torch.int64)\n",
        "\n",
        "    logp_seq = rnn_loop(char_rnn, batch_ix)\n",
        "\n",
        "    # compute loss\n",
        "    predictions_logp = logp_seq[:, :-1]\n",
        "    actual_next_tokens = batch_ix[:, 1:]\n",
        "\n",
        "    loss = criterion(\n",
        "        predictions_logp.contiguous().view(-1, num_tokens),\n",
        "        actual_next_tokens.contiguous().view(-1),\n",
        "    )\n",
        "\n",
        "    # train with backprop\n",
        "    loss.backward()\n",
        "    opt.step()\n",
        "\n",
        "    history_loss.append(loss.item())\n",
        "\n",
        "    # calculate accuracy\n",
        "    pred_inds = torch.argmax(predictions_logp, dim=-1)\n",
        "    accuracy = (pred_inds == actual_next_tokens).sum() / actual_next_tokens.numel()\n",
        "    history_acc.append(accuracy.item())\n",
        "\n",
        "    if (i + 1) % 200 == 0:\n",
        "        clear_output(True)\n",
        "\n",
        "        fig, axis = plt.subplots(1, 2, figsize=(12, 4))\n",
        "\n",
        "        axis[0].plot(history_loss, label=\"loss\")\n",
        "        axis[0].grid()\n",
        "        axis[0].legend()\n",
        "\n",
        "        axis[1].plot(history_acc, label=\"accuracy\")\n",
        "        axis[1].grid()\n",
        "        axis[1].legend()\n",
        "\n",
        "        plt.show()"
      ]
    },
    {
      "cell_type": "markdown",
      "metadata": {
        "id": "pPVni4mjFynJ"
      },
      "source": [
        "### RNN: sampling\n",
        "\n",
        "Once we've trained our network a bit, let's get to actually generating stuff.\n",
        "All we need is the single rnn step function you have defined in `char_rnn.forward`.\n",
        "\n",
        "Temperature concept is borrowed from physics where it measures entropy (which is statistical concept), so actually it influences uncertanty of our generation.\n",
        "[Read more](https://medium.com/@harshit158/softmax-temperature-5492e4007f71)"
      ]
    },
    {
      "cell_type": "code",
      "execution_count": null,
      "metadata": {
        "ExecuteTime": {
          "end_time": "2021-11-20T14:49:57.812837Z",
          "start_time": "2021-11-20T14:49:57.809203Z"
        },
        "id": "UIWUpbggFynJ"
      },
      "outputs": [],
      "source": [
        "def generate_sample(char_rnn, seed_phrase=START_TOKEN, max_length=MAX_LENGTH, temperature=1.0):\n",
        "    \"\"\"\n",
        "    The function generates text given a phrase of length at least SEQ_LENGTH.\n",
        "    :param seed_phrase: prefix characters. The RNN is asked to continue the phrase\n",
        "    :param max_length: maximum output length, including seed_phrase\n",
        "    :param temperature: coefficient for sampling.  higher temperature produces more chaotic outputs,\n",
        "                        smaller temperature converges to the single most likely output\n",
        "    \"\"\"\n",
        "    x_sequence = [token_to_id[token] for token in seed_phrase]\n",
        "    x_sequence = torch.tensor([x_sequence], dtype=torch.int64)\n",
        "    hid_state = char_rnn.initial_state(batch_size=1)\n",
        "\n",
        "    # feed the seed phrase, if any\n",
        "    for i in range(len(seed_phrase) - 1):\n",
        "        hid_state, _ = char_rnn(x_sequence[:, i], hid_state)\n",
        "\n",
        "    # start generating\n",
        "    for _ in range(max_length - len(seed_phrase)):\n",
        "        hid_state, logits = char_rnn(x_sequence[:, -1], hid_state)\n",
        "        p_next = F.softmax(logits / temperature, dim=-1).data.numpy()[0]\n",
        "\n",
        "        # sample next token and push it back into x_sequence\n",
        "        next_ix = np.random.choice(num_tokens, p=p_next)\n",
        "        next_ix = torch.tensor([[next_ix]], dtype=torch.int64)\n",
        "        x_sequence = torch.cat([x_sequence, next_ix], dim=1)\n",
        "\n",
        "    return \"\".join([tokens[ix] for ix in x_sequence.data.numpy()[0]])"
      ]
    },
    {
      "cell_type": "code",
      "execution_count": null,
      "metadata": {
        "ExecuteTime": {
          "end_time": "2021-11-20T14:49:57.844194Z",
          "start_time": "2021-11-20T14:49:57.813684Z"
        },
        "id": "71Ar5f4fFynJ"
      },
      "outputs": [],
      "source": [
        "for _ in range(10):\n",
        "    print(generate_sample(char_rnn, seed_phrase=\"_\", temperature=1.0))"
      ]
    },
    {
      "cell_type": "code",
      "execution_count": null,
      "metadata": {
        "ExecuteTime": {
          "end_time": "2021-11-20T14:49:57.847706Z",
          "start_time": "2021-11-20T14:49:57.845048Z"
        },
        "id": "7HZIx6vtFynK"
      },
      "outputs": [],
      "source": [
        "\"_Denna\" in names"
      ]
    },
    {
      "cell_type": "code",
      "execution_count": null,
      "metadata": {
        "ExecuteTime": {
          "end_time": "2021-11-20T14:49:57.895639Z",
          "start_time": "2021-11-20T14:49:57.848588Z"
        },
        "scrolled": true,
        "id": "JjyUXaj1FynK"
      },
      "outputs": [],
      "source": [
        "for _ in range(20):\n",
        "    print(generate_sample(char_rnn, seed_phrase=\"_Al\"))"
      ]
    },
    {
      "cell_type": "code",
      "execution_count": null,
      "metadata": {
        "ExecuteTime": {
          "end_time": "2021-11-20T14:49:57.922456Z",
          "start_time": "2021-11-20T14:49:57.896502Z"
        },
        "id": "1A4913hKFynK"
      },
      "outputs": [],
      "source": [
        "for _ in range(10):\n",
        "    print(generate_sample(char_rnn, temperature=0.01))"
      ]
    },
    {
      "cell_type": "code",
      "execution_count": null,
      "metadata": {
        "ExecuteTime": {
          "end_time": "2021-11-20T14:50:39.828772Z",
          "start_time": "2021-11-20T14:50:39.790579Z"
        },
        "id": "J1x7XlMGFynL"
      },
      "outputs": [],
      "source": [
        "for _ in range(10):\n",
        "    print(generate_sample(char_rnn, temperature=1.1))"
      ]
    },
    {
      "cell_type": "markdown",
      "metadata": {
        "id": "9XKhe5XTFynL"
      },
      "source": [
        "#### A bit strange generation\n",
        "\n",
        "We use `PAD_TOKEN` instead of `START_TOKEN` as a starting point.\n",
        "\n",
        "This is something our network haven't seen and thus don't expect."
      ]
    },
    {
      "cell_type": "code",
      "execution_count": null,
      "metadata": {
        "ExecuteTime": {
          "end_time": "2021-11-20T14:53:17.366640Z",
          "start_time": "2021-11-20T14:53:17.333198Z"
        },
        "id": "O0mgAlttFynL"
      },
      "outputs": [],
      "source": [
        "for _ in range(10):\n",
        "    print(generate_sample(char_rnn, PAD_TOKEN))"
      ]
    },
    {
      "cell_type": "code",
      "execution_count": null,
      "metadata": {
        "ExecuteTime": {
          "end_time": "2021-11-20T14:53:46.285554Z",
          "start_time": "2021-11-20T14:53:46.251970Z"
        },
        "id": "CL1V91SDFynM"
      },
      "outputs": [],
      "source": [
        "for _ in range(10):\n",
        "    print(generate_sample(char_rnn, \"_ \"))"
      ]
    },
    {
      "cell_type": "markdown",
      "metadata": {
        "collapsed": true,
        "id": "mSDZYOYiFynM"
      },
      "source": [
        "### More seriously\n",
        "\n",
        "What we just did is a manual low-level implementation of RNN. While it's cool, i guess you won't like the idea of re-writing it from scratch on every occasion.\n",
        "\n",
        "As you might have guessed, torch has a solution for this. To be more specific, there are two options:\n",
        "* `nn.RNNCell(emb_size, rnn_num_units)` - implements a single step of RNN just like you did. Basically concat-linear-tanh\n",
        "* `nn.RNN(emb_size, rnn_num_units` - implements the whole rnn_loop for you.\n",
        "\n",
        "There's also `nn.LSTMCell` vs `nn.LSTM`, `nn.GRUCell` vs `nn.GRU`, etc. etc.\n",
        "\n",
        "In this example we'll rewrite the char_rnn and rnn_loop using high-level rnn API."
      ]
    },
    {
      "cell_type": "code",
      "execution_count": null,
      "metadata": {
        "ExecuteTime": {
          "end_time": "2021-11-20T14:49:57.926881Z",
          "start_time": "2021-11-20T14:49:57.923373Z"
        },
        "id": "u1BptuyxFynM"
      },
      "outputs": [],
      "source": [
        "class CharRNNLoop(nn.Module):\n",
        "    def __init__(self, num_tokens=num_tokens, emb_size=16, rnn_num_units=64):\n",
        "        super(self.__class__, self).__init__()\n",
        "        self.emb = nn.Embedding(num_tokens, emb_size)\n",
        "        self.rnn = nn.LSTM(emb_size, rnn_num_units, batch_first=True)\n",
        "        self.hid_to_logits = nn.Linear(rnn_num_units, num_tokens)\n",
        "        self.num_units = rnn_num_units\n",
        "\n",
        "    def forward(self, x):\n",
        "        h_seq, _ = self.rnn(self.emb(x))\n",
        "        next_logits = self.hid_to_logits(h_seq)\n",
        "        next_logp = F.log_softmax(next_logits, dim=-1)\n",
        "        return next_logp\n",
        "\n",
        "    def forward_char(self, x, h=None):\n",
        "        if h is None:\n",
        "            out, h = self.rnn(self.emb(x))\n",
        "        else:\n",
        "            out, h = self.rnn(self.emb(x), h)\n",
        "        out = self.hid_to_logits(out)\n",
        "        return out, h\n",
        "\n",
        "    def initial_state(self, batch_size):\n",
        "        \"\"\"return rnn state before it processes first input (aka h0)\"\"\"\n",
        "        return torch.zeros(batch_size, self.num_units, requires_grad=True)"
      ]
    },
    {
      "cell_type": "code",
      "execution_count": null,
      "metadata": {
        "ExecuteTime": {
          "end_time": "2021-11-20T14:49:57.932277Z",
          "start_time": "2021-11-20T14:49:57.927778Z"
        },
        "id": "cPy5ttdHFynN"
      },
      "outputs": [],
      "source": [
        "model = CharRNNLoop()\n",
        "opt = torch.optim.Adam(model.parameters())\n",
        "history = []\n",
        "\n",
        "# the model applies over the whole sequence\n",
        "batch_ix = to_matrix(sample(names, 32), max_len=MAX_LENGTH)\n",
        "batch_ix = torch.LongTensor(batch_ix)"
      ]
    },
    {
      "cell_type": "code",
      "execution_count": null,
      "metadata": {
        "ExecuteTime": {
          "end_time": "2021-11-20T14:49:57.948127Z",
          "start_time": "2021-11-20T14:49:57.933110Z"
        },
        "id": "BBAc87OFFynN"
      },
      "outputs": [],
      "source": [
        "logp_seq = model(batch_ix)\n",
        "\n",
        "loss = criterion(\n",
        "    logp_seq[:, :-1].contiguous().view(-1, num_tokens), batch_ix[:, 1:].contiguous().view(-1)\n",
        ")\n",
        "\n",
        "loss.backward()"
      ]
    },
    {
      "cell_type": "code",
      "execution_count": null,
      "metadata": {
        "ExecuteTime": {
          "end_time": "2021-11-20T14:49:59.699329Z",
          "start_time": "2021-11-20T14:49:57.948888Z"
        },
        "id": "je3V2zOyFynN"
      },
      "outputs": [],
      "source": [
        "for i in range(500):\n",
        "    opt.zero_grad()\n",
        "\n",
        "    batch_ix = to_matrix(sample(names, 32))\n",
        "    batch_ix = torch.tensor(batch_ix, dtype=torch.int64)\n",
        "\n",
        "    logp_seq = model(batch_ix)\n",
        "\n",
        "    predictions_logp = logp_seq[:, :-1]\n",
        "    actual_next_tokens = batch_ix[:, 1:]\n",
        "\n",
        "    loss = criterion(\n",
        "        predictions_logp.contiguous().view(-1, num_tokens), actual_next_tokens.contiguous().view(-1)\n",
        "    )\n",
        "\n",
        "    # train with backprop\n",
        "    loss.backward()\n",
        "    opt.step()\n",
        "\n",
        "    history.append(loss.data.numpy())\n",
        "    if (i + 1) % 100 == 0:\n",
        "        clear_output(True)\n",
        "        plt.plot(history, label=\"loss\")\n",
        "        plt.legend()\n",
        "        plt.show()"
      ]
    },
    {
      "cell_type": "code",
      "execution_count": null,
      "metadata": {
        "ExecuteTime": {
          "end_time": "2021-11-20T14:51:21.501374Z",
          "start_time": "2021-11-20T14:51:21.497489Z"
        },
        "id": "QP9l5YOKFynO"
      },
      "outputs": [],
      "source": [
        "def generate_sample_lstm(\n",
        "    char_rnn, seed_phrase=START_TOKEN, max_length=MAX_LENGTH, temperature=1.0, device=None\n",
        "):\n",
        "    \"\"\"\n",
        "    The function generates text given a phrase of length at least SEQ_LENGTH.\n",
        "    :param seed_phrase: prefix characters. The RNN is asked to continue the phrase\n",
        "    :param max_length: maximum output length, including seed_phrase\n",
        "    :param temperature: coefficient for sampling.  higher temperature produces more chaotic outputs,\n",
        "                        smaller temperature converges to the single most likely output\n",
        "    \"\"\"\n",
        "\n",
        "    x_sequence = [token_to_id[token] for token in seed_phrase]\n",
        "    x_sequence = torch.tensor([x_sequence], dtype=torch.int64).to(device)\n",
        "\n",
        "    # feed the seed phrase, if any\n",
        "    logits, h = char_rnn.forward_char(x_sequence)\n",
        "    logits = logits[:, -1]\n",
        "\n",
        "    # start generating\n",
        "    for _ in range(max_length - x_sequence.shape[1] + 1):\n",
        "        p_next = F.softmax(logits / temperature, dim=-1).cpu().data.numpy().squeeze()\n",
        "\n",
        "        # sample next token and push it back into x_sequence\n",
        "        next_ix = np.random.choice(num_tokens, p=p_next)\n",
        "        next_ix = torch.tensor([[next_ix]], dtype=torch.int64).to(device)\n",
        "        x_sequence = torch.cat([x_sequence, next_ix], dim=1)\n",
        "        logits, h = char_rnn.forward_char(next_ix, h)\n",
        "\n",
        "    return \"\".join([tokens[ix] for ix in x_sequence.cpu().data.numpy()[0]])"
      ]
    },
    {
      "cell_type": "code",
      "execution_count": null,
      "metadata": {
        "ExecuteTime": {
          "end_time": "2021-11-20T14:51:22.651225Z",
          "start_time": "2021-11-20T14:51:22.603088Z"
        },
        "id": "xnhq-itcFynO"
      },
      "outputs": [],
      "source": [
        "for _ in range(10):\n",
        "    print(generate_sample_lstm(model, temperature=1.0))"
      ]
    },
    {
      "cell_type": "markdown",
      "metadata": {
        "id": "aWJi7cjTFynP"
      },
      "source": [
        "### To sum up:\n",
        "- PyTorch is convenient both for prototyping and production\n",
        "- There are a lot of pre-implemented methods/layers/activations out of the box\n",
        "- It's much easier (*really easier*) to use PyTorch than TensorFlow on entry level.\n",
        "- Neural networks are not *black boxes*, they are pretty nice and easy to use (almost always)."
      ]
    },
    {
      "cell_type": "markdown",
      "metadata": {
        "id": "D_vJiANtFynP"
      },
      "source": [
        "### Try it out!\n",
        "You've just implemented a recurrent language model that can be tasked with generating any kind of sequence, so there's plenty of data you can try it on:\n",
        "\n",
        "* Novels/poems/songs of your favorite author\n",
        "* News titles/clickbait titles\n",
        "* Source code of Linux or Tensorflow\n",
        "* Molecules in [smiles](https://en.wikipedia.org/wiki/Simplified_molecular-input_line-entry_system) format\n",
        "* Melody in notes/chords format\n",
        "* Ikea catalog titles\n",
        "* Pokemon names\n",
        "* Cards from Magic, the Gathering / Hearthstone\n",
        "\n",
        "If you're willing to give it a try, here's what you wanna look at:\n",
        "* Current data format is a sequence of lines, so a novel can be formatted as a list of sentences. Alternatively, you can change data preprocessing altogether.\n",
        "* While some datasets are readily available, others can only be scraped from the web. Try `Selenium` or `Scrapy` for that.\n",
        "* Make sure MAX_LENGTH is adjusted for longer datasets. There's also a bonus section about dynamic RNNs at the bottom.\n",
        "* More complex tasks require larger RNN architecture, try more neurons or several layers. It would also require more training iterations.\n",
        "* Long-term dependencies in music, novels or molecules are better handled with LSTM or GRU\n",
        "\n",
        "__Good hunting!__"
      ]
    }
  ],
  "metadata": {
    "kernelspec": {
      "display_name": "Python [conda env:ml-mipt]",
      "language": "python",
      "name": "conda-env-ml-mipt-py"
    },
    "language_info": {
      "codemirror_mode": {
        "name": "ipython",
        "version": 3
      },
      "file_extension": ".py",
      "mimetype": "text/x-python",
      "name": "python",
      "nbconvert_exporter": "python",
      "pygments_lexer": "ipython3",
      "version": "3.8.8"
    },
    "toc": {
      "base_numbering": 1,
      "nav_menu": {},
      "number_sections": true,
      "sideBar": true,
      "skip_h1_title": false,
      "title_cell": "Table of Contents",
      "title_sidebar": "Contents",
      "toc_cell": false,
      "toc_position": {},
      "toc_section_display": true,
      "toc_window_display": true
    },
    "colab": {
      "provenance": [],
      "gpuType": "T4",
      "toc_visible": true
    },
    "accelerator": "GPU"
  },
  "nbformat": 4,
  "nbformat_minor": 0
}